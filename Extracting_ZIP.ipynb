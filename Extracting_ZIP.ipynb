{
 "cells": [
  {
   "cell_type": "code",
   "execution_count": 102,
   "metadata": {
    "collapsed": false
   },
   "outputs": [],
   "source": [
    "import requests\n",
    "from bs4 import BeautifulSoup\n",
    "import pandas as pd\n",
    "import numpy as np\n",
    "\n",
    "\n",
    "def binggeo(lat,long):\n",
    "    #this will retutn the zipcode for the correspoonding lat and longs\n",
    "\n",
    "    url = \"http://dev.virtualearth.net/REST/v1/Locations/\"\n",
    "\n",
    "    \n",
    "    \n",
    "    url+=str(lat)\n",
    "    url+=\",\"\n",
    "    url+=str(long)\n",
    "    url+=\"?key=(bing_api_key)&output=xml\"\n",
    "    #IN place of (bing_api_key) insert yout api key\n",
    "    \n",
    "    response = requests.get(url)\n",
    "    soup =  BeautifulSoup(response.content,'xml')\n",
    "    try:\n",
    "        for link in soup.find_all('Address'):\n",
    "            return(link.find_all('PostalCode')[0].text)\n",
    "    except:\n",
    "        return(0)"
   ]
  },
  {
   "cell_type": "code",
   "execution_count": 72,
   "metadata": {
    "collapsed": false
   },
   "outputs": [],
   "source": [
    "data = pd.read_csv(r'E:\\GITHUB\\NYC_TAXI\\new_data.csv')"
   ]
  },
  {
   "cell_type": "code",
   "execution_count": null,
   "metadata": {
    "collapsed": false
   },
   "outputs": [],
   "source": [
    "for i in range(1544,data.shape[0]+1):\n",
    "    D_ZIP.append(binggeo(data.D_LAT[i],data.D_LONG[i]))"
   ]
  },
  {
   "cell_type": "code",
   "execution_count": null,
   "metadata": {
    "collapsed": true
   },
   "outputs": [],
   "source": [
    "len(D_ZIP)"
   ]
  }
 ],
 "metadata": {
  "kernelspec": {
   "display_name": "Python 3",
   "language": "python",
   "name": "python3"
  },
  "language_info": {
   "codemirror_mode": {
    "name": "ipython",
    "version": 3
   },
   "file_extension": ".py",
   "mimetype": "text/x-python",
   "name": "python",
   "nbconvert_exporter": "python",
   "pygments_lexer": "ipython3",
   "version": "3.5.1"
  }
 },
 "nbformat": 4,
 "nbformat_minor": 0
}
